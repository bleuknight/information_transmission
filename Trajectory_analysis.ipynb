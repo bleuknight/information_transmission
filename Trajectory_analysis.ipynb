{
 "cells": [
  {
   "cell_type": "code",
   "execution_count": 16,
   "metadata": {},
   "outputs": [],
   "source": [
    "import re \n",
    "import os\n",
    "import pandas as pd \n",
    "import matplotlib.pyplot as plt\n",
    "import numpy as np\n",
    "import csv\n",
    "import glob\n",
    "import os\n",
    "from matplotlib.animation import FuncAnimation\n",
    "from IPython import display\n",
    "import imageio\n"
   ]
  },
  {
   "cell_type": "markdown",
   "metadata": {},
   "source": [
    "### Let us get all the files "
   ]
  },
  {
   "cell_type": "code",
   "execution_count": null,
   "metadata": {
    "scrolled": true
   },
   "outputs": [],
   "source": [
    "path = \"./Data/*/\"#/*/foragers100/*/*_dis.txt\"\n",
    "paths = [\"foragers100/beta1.5/\", \"foragers100/beta2.5/\", \"foragers100/beta3.5/\", \"foragers100/beta4.5/\"]\n",
    "path_rad = [\"radius1/\", \"radius0.1/\", \"radius0.01/\", \"radius0.001/\"]\n",
    "all_files = [] \n",
    "\n",
    "for p in paths : \n",
    "    for r in path_rad : \n",
    "        res = [f for f in os.listdir(path+p+r) if re.search(r'([0]).txt$', f)]\n",
    "        all_files.append(res)\n",
    "    \n",
    "for f in all_files[0]:\n",
    "    for p in paths : \n",
    "        for r in path_rad:\n",
    "            print(path+p+r+f)\n",
    "         "
   ]
  },
  {
   "cell_type": "markdown",
   "metadata": {},
   "source": [
    "### Now let us construct a dataframe for these files such that we have the x y coordinates of every forager at every time step for each file"
   ]
  },
  {
   "cell_type": "code",
   "execution_count": 8,
   "metadata": {},
   "outputs": [],
   "source": [
    "df_tet = []\n",
    "for csv in all_files[0]:\n",
    "    for p in paths :\n",
    "        for r in path_rad:\n",
    "            i = 0 \n",
    "            while i < 99 :\n",
    "                frame = pd.read_csv(path+p+r+csv, sep=',', engine='python',usecols=[0+(i*4),1+(i*4),2+(i*4),3+(i*4)], names=[\"id\", \"x\", \"y\", \"k\"])\n",
    "                frame['filename'] = os.path.basename(csv)\n",
    "                frame['beta'] = p.split('beta')[1].split('/')[0]\n",
    "                frame['radius'] = r.split('s')[1].split('/')[0]\n",
    "                df_tet.append(frame)\n",
    "\n",
    "                i = i + 1\n",
    "            \n",
    "df_tet = pd.concat(df_tet, ignore_index=True)\n",
    "            "
   ]
  },
  {
   "cell_type": "code",
   "execution_count": 9,
   "metadata": {},
   "outputs": [
    {
     "data": {
      "text/html": [
       "<div>\n",
       "<style scoped>\n",
       "    .dataframe tbody tr th:only-of-type {\n",
       "        vertical-align: middle;\n",
       "    }\n",
       "\n",
       "    .dataframe tbody tr th {\n",
       "        vertical-align: top;\n",
       "    }\n",
       "\n",
       "    .dataframe thead th {\n",
       "        text-align: right;\n",
       "    }\n",
       "</style>\n",
       "<table border=\"1\" class=\"dataframe\">\n",
       "  <thead>\n",
       "    <tr style=\"text-align: right;\">\n",
       "      <th></th>\n",
       "      <th>id</th>\n",
       "      <th>x</th>\n",
       "      <th>y</th>\n",
       "      <th>k</th>\n",
       "      <th>filename</th>\n",
       "      <th>beta</th>\n",
       "      <th>radius</th>\n",
       "    </tr>\n",
       "  </thead>\n",
       "  <tbody>\n",
       "    <tr>\n",
       "      <th>0</th>\n",
       "      <td>0</td>\n",
       "      <td>0.250684</td>\n",
       "      <td>0.658152</td>\n",
       "      <td>2</td>\n",
       "      <td>0.txt</td>\n",
       "      <td>1.5</td>\n",
       "      <td>1</td>\n",
       "    </tr>\n",
       "    <tr>\n",
       "      <th>1</th>\n",
       "      <td>0</td>\n",
       "      <td>0.250684</td>\n",
       "      <td>0.658152</td>\n",
       "      <td>1</td>\n",
       "      <td>0.txt</td>\n",
       "      <td>1.5</td>\n",
       "      <td>1</td>\n",
       "    </tr>\n",
       "    <tr>\n",
       "      <th>2</th>\n",
       "      <td>0</td>\n",
       "      <td>0.249803</td>\n",
       "      <td>0.656149</td>\n",
       "      <td>598</td>\n",
       "      <td>0.txt</td>\n",
       "      <td>1.5</td>\n",
       "      <td>1</td>\n",
       "    </tr>\n",
       "    <tr>\n",
       "      <th>3</th>\n",
       "      <td>0</td>\n",
       "      <td>0.249803</td>\n",
       "      <td>0.656149</td>\n",
       "      <td>597</td>\n",
       "      <td>0.txt</td>\n",
       "      <td>1.5</td>\n",
       "      <td>1</td>\n",
       "    </tr>\n",
       "    <tr>\n",
       "      <th>4</th>\n",
       "      <td>0</td>\n",
       "      <td>0.249803</td>\n",
       "      <td>0.656149</td>\n",
       "      <td>596</td>\n",
       "      <td>0.txt</td>\n",
       "      <td>1.5</td>\n",
       "      <td>1</td>\n",
       "    </tr>\n",
       "    <tr>\n",
       "      <th>...</th>\n",
       "      <td>...</td>\n",
       "      <td>...</td>\n",
       "      <td>...</td>\n",
       "      <td>...</td>\n",
       "      <td>...</td>\n",
       "      <td>...</td>\n",
       "      <td>...</td>\n",
       "    </tr>\n",
       "    <tr>\n",
       "      <th>158395</th>\n",
       "      <td>98</td>\n",
       "      <td>0.995133</td>\n",
       "      <td>0.803153</td>\n",
       "      <td>-1</td>\n",
       "      <td>0.txt</td>\n",
       "      <td>4.5</td>\n",
       "      <td>0.001</td>\n",
       "    </tr>\n",
       "    <tr>\n",
       "      <th>158396</th>\n",
       "      <td>98</td>\n",
       "      <td>0.992019</td>\n",
       "      <td>0.803600</td>\n",
       "      <td>-1</td>\n",
       "      <td>0.txt</td>\n",
       "      <td>4.5</td>\n",
       "      <td>0.001</td>\n",
       "    </tr>\n",
       "    <tr>\n",
       "      <th>158397</th>\n",
       "      <td>98</td>\n",
       "      <td>0.989691</td>\n",
       "      <td>0.808163</td>\n",
       "      <td>-1</td>\n",
       "      <td>0.txt</td>\n",
       "      <td>4.5</td>\n",
       "      <td>0.001</td>\n",
       "    </tr>\n",
       "    <tr>\n",
       "      <th>158398</th>\n",
       "      <td>98</td>\n",
       "      <td>0.989490</td>\n",
       "      <td>0.808101</td>\n",
       "      <td>-1</td>\n",
       "      <td>0.txt</td>\n",
       "      <td>4.5</td>\n",
       "      <td>0.001</td>\n",
       "    </tr>\n",
       "    <tr>\n",
       "      <th>158399</th>\n",
       "      <td>98</td>\n",
       "      <td>0.985491</td>\n",
       "      <td>0.807401</td>\n",
       "      <td>-1</td>\n",
       "      <td>0.txt</td>\n",
       "      <td>4.5</td>\n",
       "      <td>0.001</td>\n",
       "    </tr>\n",
       "  </tbody>\n",
       "</table>\n",
       "<p>158400 rows × 7 columns</p>\n",
       "</div>"
      ],
      "text/plain": [
       "        id         x         y    k filename beta radius\n",
       "0        0  0.250684  0.658152    2    0.txt  1.5      1\n",
       "1        0  0.250684  0.658152    1    0.txt  1.5      1\n",
       "2        0  0.249803  0.656149  598    0.txt  1.5      1\n",
       "3        0  0.249803  0.656149  597    0.txt  1.5      1\n",
       "4        0  0.249803  0.656149  596    0.txt  1.5      1\n",
       "...     ..       ...       ...  ...      ...  ...    ...\n",
       "158395  98  0.995133  0.803153   -1    0.txt  4.5  0.001\n",
       "158396  98  0.992019  0.803600   -1    0.txt  4.5  0.001\n",
       "158397  98  0.989691  0.808163   -1    0.txt  4.5  0.001\n",
       "158398  98  0.989490  0.808101   -1    0.txt  4.5  0.001\n",
       "158399  98  0.985491  0.807401   -1    0.txt  4.5  0.001\n",
       "\n",
       "[158400 rows x 7 columns]"
      ]
     },
     "execution_count": 9,
     "metadata": {},
     "output_type": "execute_result"
    }
   ],
   "source": [
    "df_tet"
   ]
  },
  {
   "cell_type": "markdown",
   "metadata": {},
   "source": [
    "### This function will read in the dataframe"
   ]
  },
  {
   "cell_type": "code",
   "execution_count": null,
   "metadata": {},
   "outputs": [],
   "source": []
  },
  {
   "cell_type": "code",
   "execution_count": 12,
   "metadata": {},
   "outputs": [],
   "source": [
    "def plot_for_offset(i,file,beta,radius):\n",
    "    print(i)\n",
    "    plt.gca().cla()\n",
    "    display.clear_output(wait=False)\n",
    "    j=0\n",
    "    df2 = df_tet.loc[(df_tet['filename'] == file) & (df_tet['beta'] == beta) & (df_tet['radius'] == radius) ]\n",
    "\n",
    "    for j in range(99) :\n",
    "        \n",
    "        df3 = df2.loc[(df2['id'] == j) ]\n",
    "        df3 = df3.reset_index()\n",
    "        ax.scatter(x=df3.loc[i]['x'], y=df3.loc[i]['y'], color=cmap(j))\n",
    "        ax.plot(df3.loc[:i+1]['x'], df3.loc[:i+1]['y'], color=cmap(j))\n",
    "        fig.canvas.draw()\n",
    "\n",
    "    img = np.frombuffer(fig.canvas.tostring_rgb(), dtype='uint8')\n",
    "    img = img.reshape(fig.canvas.get_width_height()[::-1] + (3,))\n",
    "\n",
    "    return img"
   ]
  },
  {
   "cell_type": "markdown",
   "metadata": {},
   "source": [
    "### this function will make the plot and save it as a GIF "
   ]
  },
  {
   "cell_type": "code",
   "execution_count": 11,
   "metadata": {},
   "outputs": [],
   "source": [
    "def make_plot(file,beta,radius):\n",
    "    \n",
    "    i = 0\n",
    "    nametosave = 'tethered'+\"_\"+beta+\"_\"+radius\n",
    "    allimg = [plot_for_offset(i,file,beta,radius) for i in range(99)]\n",
    "    imageio.mimsave(nametosave+\".gif\", allimg , fps=5)\n",
    "    plt.cla()\n",
    "    fig.clear()\n",
    "    del allimg\n",
    "    "
   ]
  },
  {
   "cell_type": "code",
   "execution_count": 15,
   "metadata": {},
   "outputs": [],
   "source": [
    "def get_cmap(n, name='viridis'):\n",
    "    '''Returns a function that maps each index in 0, 1, ..., n-1 to a distinct\n",
    "    RGB color; the keyword argument name must be a standard mpl colormap name.'''\n",
    "    return plt.cm.get_cmap(name, n)"
   ]
  },
  {
   "cell_type": "markdown",
   "metadata": {},
   "source": [
    "### Now we can use these functions \n",
    "### it runs a loop over all betas and radii and calls the above function to run on the dataframe"
   ]
  },
  {
   "cell_type": "code",
   "execution_count": null,
   "metadata": {
    "scrolled": true
   },
   "outputs": [],
   "source": [
    "betas = ['1.5' ,'2.5', '3.5', '4.5']\n",
    "rads = ['1', '0.1', '0.01', '0.001']\n",
    "for b in betas:\n",
    "    for r in rads :\n",
    "#         fig.clear()\n",
    "        \n",
    "        fig, ax = plt.subplots()\n",
    "        fig.suptitle(\"beta\"+b+\"|\"+\"radius\"+r, fontsize=20)\n",
    "        ax.set(xlim=(0, 1), ylim=(0, 1))\n",
    "        fig.set_figheight(10)\n",
    "        fig.set_figwidth(10)\n",
    "\n",
    "        cmap = get_cmap(100)\n",
    "        print(r, b)\n",
    "        make_plot('0.txt', b, r)"
   ]
  },
  {
   "cell_type": "code",
   "execution_count": null,
   "metadata": {},
   "outputs": [],
   "source": []
  }
 ],
 "metadata": {
  "kernelspec": {
   "display_name": "Python 3",
   "language": "python",
   "name": "python3"
  },
  "language_info": {
   "codemirror_mode": {
    "name": "ipython",
    "version": 3
   },
   "file_extension": ".py",
   "mimetype": "text/x-python",
   "name": "python",
   "nbconvert_exporter": "python",
   "pygments_lexer": "ipython3",
   "version": "3.7.7"
  }
 },
 "nbformat": 4,
 "nbformat_minor": 2
}
